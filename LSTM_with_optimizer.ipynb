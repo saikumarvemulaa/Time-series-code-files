{
  "nbformat": 4,
  "nbformat_minor": 0,
  "metadata": {
    "colab": {
      "provenance": []
    },
    "kernelspec": {
      "name": "python3",
      "display_name": "Python 3"
    },
    "language_info": {
      "name": "python"
    }
  },
  "cells": [
    {
      "cell_type": "code",
      "execution_count": 1,
      "metadata": {
        "id": "AD-GABxsd9KE"
      },
      "outputs": [],
      "source": [
        "import numpy as np\n",
        "import pandas as pd\n",
        "import tensorflow as tf\n",
        "from tensorflow.keras.models import Sequential\n",
        "from tensorflow.keras.layers import LSTM, Dense, Dropout\n",
        "from sklearn.preprocessing import MinMaxScaler\n",
        "from sklearn.metrics import mean_squared_error, mean_absolute_error, r2_score\n",
        "import matplotlib.pyplot as plt\n"
      ]
    },
    {
      "cell_type": "code",
      "source": [
        "# Load data\n",
        "url = \"https://docs.google.com/spreadsheets/d/e/2PACX-1vRC4x6mecC7EkofiP3uJWZ3Y1jD1B2QMZXjlFtdP9-TOan6Fms2TqyOyssHegjTeG7iM6f-qX89vfvK/pub?gid=0&single=true&output=csv\"\n",
        "df = pd.read_csv(url)\n",
        "df['Date'] = pd.to_datetime(df['Date'], format='%m-%Y')\n",
        "df.set_index('Date', inplace=True)\n",
        "df['Biomass']=df['Biomass'].dropna()"
      ],
      "metadata": {
        "id": "v6blL3LxeC9q"
      },
      "execution_count": 2,
      "outputs": []
    },
    {
      "cell_type": "code",
      "source": [
        "# Load and preprocess data\n",
        "# Assuming df is already loaded with 'Biomass' column\n",
        "scaler = MinMaxScaler(feature_range=(0, 1))\n",
        "scaled_data = scaler.fit_transform(df['Biomass'].values.reshape(-1,1))\n",
        "\n",
        "def create_dataset(data, look_back=1):\n",
        "    X, Y = [], []\n",
        "    for i in range(len(data) - look_back - 1):\n",
        "        a = data[i:(i + look_back), 0]\n",
        "        X.append(a)\n",
        "        Y.append(data[i + look_back, 0])\n",
        "    return np.array(X), np.array(Y)\n",
        "\n",
        "look_back = 5  # Number of previous time steps to consider\n",
        "X, y = create_dataset(scaled_data, look_back)\n",
        "X = np.reshape(X, (X.shape[0], X.shape[1], 1))  # Reshape input to be [samples, time steps, features]\n"
      ],
      "metadata": {
        "id": "B56ndLS1eFW4"
      },
      "execution_count": 3,
      "outputs": []
    },
    {
      "cell_type": "code",
      "source": [
        "# Create LSTM model\n",
        "model = Sequential()\n",
        "model.add(LSTM(50, return_sequences=True, input_shape=(look_back, 1)))\n",
        "model.add(LSTM(50, return_sequences=False))\n",
        "model.add(Dense(25))\n",
        "model.add(Dense(1))\n",
        "\n",
        "model.compile(optimizer='adam', loss='mean_squared_error')\n"
      ],
      "metadata": {
        "id": "HxJV-6RCeMxC"
      },
      "execution_count": 4,
      "outputs": []
    },
    {
      "cell_type": "code",
      "source": [
        "# Train the model\n",
        "model.fit(X, y, epochs=100, batch_size=32)\n"
      ],
      "metadata": {
        "colab": {
          "base_uri": "https://localhost:8080/"
        },
        "id": "cdqbrGNteP6o",
        "outputId": "7c19c638-7cf6-419d-8d43-41361b463882"
      },
      "execution_count": 5,
      "outputs": [
        {
          "output_type": "stream",
          "name": "stdout",
          "text": [
            "Epoch 1/100\n",
            "3/3 [==============================] - 3s 8ms/step - loss: 0.2200\n",
            "Epoch 2/100\n",
            "3/3 [==============================] - 0s 6ms/step - loss: 0.1364\n",
            "Epoch 3/100\n",
            "3/3 [==============================] - 0s 6ms/step - loss: 0.0708\n",
            "Epoch 4/100\n",
            "3/3 [==============================] - 0s 6ms/step - loss: 0.0348\n",
            "Epoch 5/100\n",
            "3/3 [==============================] - 0s 6ms/step - loss: 0.0498\n",
            "Epoch 6/100\n",
            "3/3 [==============================] - 0s 8ms/step - loss: 0.0544\n",
            "Epoch 7/100\n",
            "3/3 [==============================] - 0s 6ms/step - loss: 0.0404\n",
            "Epoch 8/100\n",
            "3/3 [==============================] - 0s 7ms/step - loss: 0.0342\n",
            "Epoch 9/100\n",
            "3/3 [==============================] - 0s 6ms/step - loss: 0.0379\n",
            "Epoch 10/100\n",
            "3/3 [==============================] - 0s 7ms/step - loss: 0.0402\n",
            "Epoch 11/100\n",
            "3/3 [==============================] - 0s 10ms/step - loss: 0.0388\n",
            "Epoch 12/100\n",
            "3/3 [==============================] - 0s 8ms/step - loss: 0.0356\n",
            "Epoch 13/100\n",
            "3/3 [==============================] - 0s 8ms/step - loss: 0.0339\n",
            "Epoch 14/100\n",
            "3/3 [==============================] - 0s 6ms/step - loss: 0.0342\n",
            "Epoch 15/100\n",
            "3/3 [==============================] - 0s 7ms/step - loss: 0.0345\n",
            "Epoch 16/100\n",
            "3/3 [==============================] - 0s 7ms/step - loss: 0.0340\n",
            "Epoch 17/100\n",
            "3/3 [==============================] - 0s 7ms/step - loss: 0.0339\n",
            "Epoch 18/100\n",
            "3/3 [==============================] - 0s 7ms/step - loss: 0.0334\n",
            "Epoch 19/100\n",
            "3/3 [==============================] - 0s 7ms/step - loss: 0.0334\n",
            "Epoch 20/100\n",
            "3/3 [==============================] - 0s 7ms/step - loss: 0.0332\n",
            "Epoch 21/100\n",
            "3/3 [==============================] - 0s 7ms/step - loss: 0.0332\n",
            "Epoch 22/100\n",
            "3/3 [==============================] - 0s 7ms/step - loss: 0.0330\n",
            "Epoch 23/100\n",
            "3/3 [==============================] - 0s 7ms/step - loss: 0.0329\n",
            "Epoch 24/100\n",
            "3/3 [==============================] - 0s 8ms/step - loss: 0.0326\n",
            "Epoch 25/100\n",
            "3/3 [==============================] - 0s 7ms/step - loss: 0.0325\n",
            "Epoch 26/100\n",
            "3/3 [==============================] - 0s 6ms/step - loss: 0.0325\n",
            "Epoch 27/100\n",
            "3/3 [==============================] - 0s 7ms/step - loss: 0.0324\n",
            "Epoch 28/100\n",
            "3/3 [==============================] - 0s 6ms/step - loss: 0.0325\n",
            "Epoch 29/100\n",
            "3/3 [==============================] - 0s 6ms/step - loss: 0.0324\n",
            "Epoch 30/100\n",
            "3/3 [==============================] - 0s 6ms/step - loss: 0.0323\n",
            "Epoch 31/100\n",
            "3/3 [==============================] - 0s 6ms/step - loss: 0.0320\n",
            "Epoch 32/100\n",
            "3/3 [==============================] - 0s 7ms/step - loss: 0.0320\n",
            "Epoch 33/100\n",
            "3/3 [==============================] - 0s 7ms/step - loss: 0.0318\n",
            "Epoch 34/100\n",
            "3/3 [==============================] - 0s 6ms/step - loss: 0.0319\n",
            "Epoch 35/100\n",
            "3/3 [==============================] - 0s 8ms/step - loss: 0.0316\n",
            "Epoch 36/100\n",
            "3/3 [==============================] - 0s 8ms/step - loss: 0.0317\n",
            "Epoch 37/100\n",
            "3/3 [==============================] - 0s 6ms/step - loss: 0.0315\n",
            "Epoch 38/100\n",
            "3/3 [==============================] - 0s 6ms/step - loss: 0.0316\n",
            "Epoch 39/100\n",
            "3/3 [==============================] - 0s 7ms/step - loss: 0.0316\n",
            "Epoch 40/100\n",
            "3/3 [==============================] - 0s 6ms/step - loss: 0.0312\n",
            "Epoch 41/100\n",
            "3/3 [==============================] - 0s 6ms/step - loss: 0.0315\n",
            "Epoch 42/100\n",
            "3/3 [==============================] - 0s 6ms/step - loss: 0.0316\n",
            "Epoch 43/100\n",
            "3/3 [==============================] - 0s 6ms/step - loss: 0.0310\n",
            "Epoch 44/100\n",
            "3/3 [==============================] - 0s 6ms/step - loss: 0.0309\n",
            "Epoch 45/100\n",
            "3/3 [==============================] - 0s 6ms/step - loss: 0.0311\n",
            "Epoch 46/100\n",
            "3/3 [==============================] - 0s 8ms/step - loss: 0.0309\n",
            "Epoch 47/100\n",
            "3/3 [==============================] - 0s 8ms/step - loss: 0.0306\n",
            "Epoch 48/100\n",
            "3/3 [==============================] - 0s 8ms/step - loss: 0.0305\n",
            "Epoch 49/100\n",
            "3/3 [==============================] - 0s 6ms/step - loss: 0.0304\n",
            "Epoch 50/100\n",
            "3/3 [==============================] - 0s 8ms/step - loss: 0.0303\n",
            "Epoch 51/100\n",
            "3/3 [==============================] - 0s 9ms/step - loss: 0.0301\n",
            "Epoch 52/100\n",
            "3/3 [==============================] - 0s 8ms/step - loss: 0.0301\n",
            "Epoch 53/100\n",
            "3/3 [==============================] - 0s 6ms/step - loss: 0.0298\n",
            "Epoch 54/100\n",
            "3/3 [==============================] - 0s 6ms/step - loss: 0.0299\n",
            "Epoch 55/100\n",
            "3/3 [==============================] - 0s 7ms/step - loss: 0.0299\n",
            "Epoch 56/100\n",
            "3/3 [==============================] - 0s 6ms/step - loss: 0.0295\n",
            "Epoch 57/100\n",
            "3/3 [==============================] - 0s 6ms/step - loss: 0.0295\n",
            "Epoch 58/100\n",
            "3/3 [==============================] - 0s 6ms/step - loss: 0.0296\n",
            "Epoch 59/100\n",
            "3/3 [==============================] - 0s 6ms/step - loss: 0.0293\n",
            "Epoch 60/100\n",
            "3/3 [==============================] - 0s 6ms/step - loss: 0.0289\n",
            "Epoch 61/100\n",
            "3/3 [==============================] - 0s 8ms/step - loss: 0.0292\n",
            "Epoch 62/100\n",
            "3/3 [==============================] - 0s 7ms/step - loss: 0.0293\n",
            "Epoch 63/100\n",
            "3/3 [==============================] - 0s 7ms/step - loss: 0.0289\n",
            "Epoch 64/100\n",
            "3/3 [==============================] - 0s 7ms/step - loss: 0.0284\n",
            "Epoch 65/100\n",
            "3/3 [==============================] - 0s 7ms/step - loss: 0.0286\n",
            "Epoch 66/100\n",
            "3/3 [==============================] - 0s 8ms/step - loss: 0.0281\n",
            "Epoch 67/100\n",
            "3/3 [==============================] - 0s 6ms/step - loss: 0.0283\n",
            "Epoch 68/100\n",
            "3/3 [==============================] - 0s 6ms/step - loss: 0.0279\n",
            "Epoch 69/100\n",
            "3/3 [==============================] - 0s 6ms/step - loss: 0.0277\n",
            "Epoch 70/100\n",
            "3/3 [==============================] - 0s 6ms/step - loss: 0.0276\n",
            "Epoch 71/100\n",
            "3/3 [==============================] - 0s 6ms/step - loss: 0.0274\n",
            "Epoch 72/100\n",
            "3/3 [==============================] - 0s 8ms/step - loss: 0.0273\n",
            "Epoch 73/100\n",
            "3/3 [==============================] - 0s 7ms/step - loss: 0.0270\n",
            "Epoch 74/100\n",
            "3/3 [==============================] - 0s 6ms/step - loss: 0.0267\n",
            "Epoch 75/100\n",
            "3/3 [==============================] - 0s 6ms/step - loss: 0.0266\n",
            "Epoch 76/100\n",
            "3/3 [==============================] - 0s 6ms/step - loss: 0.0266\n",
            "Epoch 77/100\n",
            "3/3 [==============================] - 0s 6ms/step - loss: 0.0261\n",
            "Epoch 78/100\n",
            "3/3 [==============================] - 0s 6ms/step - loss: 0.0262\n",
            "Epoch 79/100\n",
            "3/3 [==============================] - 0s 6ms/step - loss: 0.0262\n",
            "Epoch 80/100\n",
            "3/3 [==============================] - 0s 6ms/step - loss: 0.0258\n",
            "Epoch 81/100\n",
            "3/3 [==============================] - 0s 6ms/step - loss: 0.0255\n",
            "Epoch 82/100\n",
            "3/3 [==============================] - 0s 6ms/step - loss: 0.0249\n",
            "Epoch 83/100\n",
            "3/3 [==============================] - 0s 6ms/step - loss: 0.0253\n",
            "Epoch 84/100\n",
            "3/3 [==============================] - 0s 6ms/step - loss: 0.0242\n",
            "Epoch 85/100\n",
            "3/3 [==============================] - 0s 7ms/step - loss: 0.0259\n",
            "Epoch 86/100\n",
            "3/3 [==============================] - 0s 6ms/step - loss: 0.0257\n",
            "Epoch 87/100\n",
            "3/3 [==============================] - 0s 6ms/step - loss: 0.0242\n",
            "Epoch 88/100\n",
            "3/3 [==============================] - 0s 6ms/step - loss: 0.0240\n",
            "Epoch 89/100\n",
            "3/3 [==============================] - 0s 6ms/step - loss: 0.0242\n",
            "Epoch 90/100\n",
            "3/3 [==============================] - 0s 6ms/step - loss: 0.0232\n",
            "Epoch 91/100\n",
            "3/3 [==============================] - 0s 6ms/step - loss: 0.0239\n",
            "Epoch 92/100\n",
            "3/3 [==============================] - 0s 7ms/step - loss: 0.0226\n",
            "Epoch 93/100\n",
            "3/3 [==============================] - 0s 7ms/step - loss: 0.0236\n",
            "Epoch 94/100\n",
            "3/3 [==============================] - 0s 8ms/step - loss: 0.0229\n",
            "Epoch 95/100\n",
            "3/3 [==============================] - 0s 8ms/step - loss: 0.0229\n",
            "Epoch 96/100\n",
            "3/3 [==============================] - 0s 6ms/step - loss: 0.0225\n",
            "Epoch 97/100\n",
            "3/3 [==============================] - 0s 6ms/step - loss: 0.0233\n",
            "Epoch 98/100\n",
            "3/3 [==============================] - 0s 7ms/step - loss: 0.0218\n",
            "Epoch 99/100\n",
            "3/3 [==============================] - 0s 7ms/step - loss: 0.0242\n",
            "Epoch 100/100\n",
            "3/3 [==============================] - 0s 6ms/step - loss: 0.0232\n"
          ]
        },
        {
          "output_type": "execute_result",
          "data": {
            "text/plain": [
              "<keras.src.callbacks.History at 0x7f666849e500>"
            ]
          },
          "metadata": {},
          "execution_count": 5
        }
      ]
    },
    {
      "cell_type": "code",
      "source": [
        "# Making predictions\n",
        "train_predictions = model.predict(X)\n",
        "\n",
        "# Inverse transform predictions and actual values\n",
        "train_predictions = scaler.inverse_transform(train_predictions)\n",
        "y_actual = scaler.inverse_transform(y.reshape(-1, 1))\n",
        "\n",
        "# Calculate error metrics\n",
        "train_mse = mean_squared_error(y_actual, train_predictions)\n",
        "train_rmse = np.sqrt(train_mse)\n",
        "train_mae = mean_absolute_error(y_actual, train_predictions)\n",
        "train_r2 = r2_score(y_actual, train_predictions)\n",
        "\n",
        "print(f\"Training Metrics:\\nMSE: {train_mse}, RMSE: {train_rmse}, MAE: {train_mae}, R-squared: {train_r2}\")\n"
      ],
      "metadata": {
        "colab": {
          "base_uri": "https://localhost:8080/"
        },
        "id": "gamzeVnXeYSW",
        "outputId": "ba13aaf9-c285-4af2-c0f2-5b13ac7b7012"
      },
      "execution_count": 6,
      "outputs": [
        {
          "output_type": "stream",
          "name": "stdout",
          "text": [
            "3/3 [==============================] - 1s 4ms/step\n",
            "Training Metrics:\n",
            "MSE: 1169.8915751401712, RMSE: 34.203677801373516, MAE: 26.971698584923377, R-squared: 0.5312709827652184\n"
          ]
        }
      ]
    },
    {
      "cell_type": "code",
      "source": [
        "# Forecast future values\n",
        "future_months = 30\n",
        "future_predictions = []\n",
        "current_batch = scaled_data[-look_back:]\n",
        "\n",
        "for i in range(future_months):\n",
        "    current_pred = model.predict(current_batch.reshape(1, look_back, 1))\n",
        "    future_predictions.append(current_pred[0, 0])\n",
        "    current_batch = np.append(current_batch[1:], current_pred)\n",
        "\n",
        "# Inverse transform the predictions to original scale\n",
        "future_predictions = scaler.inverse_transform(np.array(future_predictions).reshape(-1, 1))\n",
        "future_dates = pd.date_range(start=df.index[-1], periods=future_months + 1, freq='M')[1:]\n",
        "future_series = pd.Series(future_predictions.flatten(), index=future_dates)\n"
      ],
      "metadata": {
        "colab": {
          "base_uri": "https://localhost:8080/"
        },
        "id": "Ow82OAjteqpf",
        "outputId": "d2a0af35-ea10-448e-80eb-689a4c469305"
      },
      "execution_count": 8,
      "outputs": [
        {
          "output_type": "stream",
          "name": "stdout",
          "text": [
            "1/1 [==============================] - 0s 17ms/step\n",
            "1/1 [==============================] - 0s 15ms/step\n",
            "1/1 [==============================] - 0s 15ms/step\n",
            "1/1 [==============================] - 0s 16ms/step\n",
            "1/1 [==============================] - 0s 16ms/step\n",
            "1/1 [==============================] - 0s 28ms/step\n",
            "1/1 [==============================] - 0s 22ms/step\n",
            "1/1 [==============================] - 0s 20ms/step\n",
            "1/1 [==============================] - 0s 20ms/step\n",
            "1/1 [==============================] - 0s 21ms/step\n",
            "1/1 [==============================] - 0s 20ms/step\n",
            "1/1 [==============================] - 0s 22ms/step\n",
            "1/1 [==============================] - 0s 21ms/step\n",
            "1/1 [==============================] - 0s 21ms/step\n",
            "1/1 [==============================] - 0s 21ms/step\n",
            "1/1 [==============================] - 0s 23ms/step\n",
            "1/1 [==============================] - 0s 19ms/step\n",
            "1/1 [==============================] - 0s 19ms/step\n",
            "1/1 [==============================] - 0s 20ms/step\n",
            "1/1 [==============================] - 0s 20ms/step\n",
            "1/1 [==============================] - 0s 26ms/step\n",
            "1/1 [==============================] - 0s 29ms/step\n",
            "1/1 [==============================] - 0s 24ms/step\n",
            "1/1 [==============================] - 0s 20ms/step\n",
            "1/1 [==============================] - 0s 20ms/step\n",
            "1/1 [==============================] - 0s 22ms/step\n",
            "1/1 [==============================] - 0s 21ms/step\n",
            "1/1 [==============================] - 0s 15ms/step\n",
            "1/1 [==============================] - 0s 15ms/step\n",
            "1/1 [==============================] - 0s 16ms/step\n"
          ]
        }
      ]
    },
    {
      "cell_type": "code",
      "source": [
        "# Plotting the original and forecasted values\n",
        "plt.figure(figsize=(12, 6))\n",
        "plt.plot(df.index, df['Biomass'], label='Actual Biomass', color='blue')\n",
        "plt.plot(future_series.index, future_series, label='Forecasted Biomass', color='red', linestyle='dashed')\n",
        "plt.title('LSTM - Actual vs Forecasted Biomass')\n",
        "plt.xlabel('Date')\n",
        "plt.ylabel('Biomass')\n",
        "plt.legend()\n",
        "plt.show()\n",
        "\n"
      ],
      "metadata": {
        "colab": {
          "base_uri": "https://localhost:8080/",
          "height": 564
        },
        "id": "VYify2WQexNo",
        "outputId": "eed2e605-90d9-455a-fbb5-14b3dc9e7c06"
      },
      "execution_count": 10,
      "outputs": [
        {
          "output_type": "display_data",
          "data": {
            "text/plain": [
              "<Figure size 1200x600 with 1 Axes>"
            ],
            "image/png": "[encoded data removed]"
          },
          "metadata": {}
        }
      ]
    }
  ]
}