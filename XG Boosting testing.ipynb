{
 "cells": [
  {
   "cell_type": "code",
   "execution_count": 2,
   "id": "669f7023",
   "metadata": {},
   "outputs": [
    {
     "name": "stdout",
     "output_type": "stream",
     "text": [
      "Collecting xgboostNote: you may need to restart the kernel to use updated packages.\n",
      "  Downloading xgboost-2.0.2-py3-none-win_amd64.whl (99.8 MB)\n",
      "Requirement already satisfied: numpy in c:\\users\\pacha\\anaconda3\\lib\\site-packages (from xgboost) (1.23.5)\n",
      "Requirement already satisfied: scipy in c:\\users\\pacha\\anaconda3\\lib\\site-packages (from xgboost) (1.10.1)\n",
      "Installing collected packages: xgboost\n",
      "Successfully installed xgboost-2.0.2\n",
      "\n"
     ]
    }
   ],
   "source": [
    "pip install xgboost\n"
   ]
  },
  {
   "cell_type": "code",
   "execution_count": 7,
   "id": "574d7ecd",
   "metadata": {},
   "outputs": [],
   "source": [
    "import pandas as pd\n",
    "import numpy as np\n",
    "import xgboost as xgb\n",
    "from sklearn.metrics import mean_squared_error, mean_absolute_error, r2_score\n",
    "import matplotlib.pyplot as plt\n",
    "from sklearn.model_selection import GridSearchCV"
   ]
  },
  {
   "cell_type": "code",
   "execution_count": 5,
   "id": "03eed300",
   "metadata": {},
   "outputs": [],
   "source": [
    "# Load data\n",
    "url = \"https://docs.google.com/spreadsheets/d/e/2PACX-1vRC4x6mecC7EkofiP3uJWZ3Y1jD1B2QMZXjlFtdP9-TOan6Fms2TqyOyssHegjTeG7iM6f-qX89vfvK/pub?gid=0&single=true&output=csv\"\n",
    "df = pd.read_csv(url)\n",
    "df['Date'] = pd.to_datetime(df['Date'], format='%m-%Y')\n",
    "df.set_index('Date', inplace=True)\n",
    "df['Biomass']=df['Biomass'].dropna()"
   ]
  },
  {
   "cell_type": "code",
   "execution_count": 6,
   "id": "0129e5b0",
   "metadata": {},
   "outputs": [],
   "source": [
    "# Assuming df is your DataFrame with the 'Biomass' column\n",
    "def create_dataset(data, look_back=1):\n",
    "    X, Y = [], []\n",
    "    for i in range(len(data) - look_back - 1):\n",
    "        a = data[i:(i + look_back)]\n",
    "        X.append(a)\n",
    "        Y.append(data[i + look_back])\n",
    "    return np.array(X), np.array(Y)\n",
    "\n",
    "# Define look_back period and prepare the dataset\n",
    "look_back = 5\n",
    "X, y = create_dataset(df['Biomass'].values, look_back)\n"
   ]
  },
  {
   "cell_type": "code",
   "execution_count": 8,
   "id": "40afe4ae",
   "metadata": {},
   "outputs": [],
   "source": [
    "# Define a range of parameters for GridSearchCV\n",
    "param_grid = {\n",
    "    \"n_estimators\": [50, 100, 200],\n",
    "    \"learning_rate\": [0.01, 0.05, 0.1],\n",
    "    \"max_depth\": [3, 5, 7],\n",
    "    \"colsample_bytree\": [0.5, 0.7, 1],\n",
    "    \"subsample\": [0.6, 0.8, 1]\n",
    "}\n",
    "\n",
    "# Create XGBoost regressor\n",
    "xg_reg = xgb.XGBRegressor(objective ='reg:squarederror')\n",
    "\n",
    "# Create GridSearchCV\n",
    "grid_search = GridSearchCV(estimator=xg_reg, param_grid=param_grid, cv=3, n_jobs=-1, verbose=2)\n"
   ]
  },
  {
   "cell_type": "code",
   "execution_count": 9,
   "id": "94619ea0",
   "metadata": {},
   "outputs": [
    {
     "name": "stdout",
     "output_type": "stream",
     "text": [
      "Fitting 3 folds for each of 243 candidates, totalling 729 fits\n",
      "Best Parameters: {'colsample_bytree': 0.7, 'learning_rate': 0.1, 'max_depth': 3, 'n_estimators': 50, 'subsample': 0.6}\n"
     ]
    }
   ],
   "source": [
    "# Fit the grid search model\n",
    "grid_search.fit(X, y)\n",
    "\n",
    "# Get the best parameters\n",
    "best_params = grid_search.best_params_\n",
    "print(\"Best Parameters:\", best_params)\n"
   ]
  },
  {
   "cell_type": "code",
   "execution_count": 10,
   "id": "b4301dcd",
   "metadata": {},
   "outputs": [
    {
     "data": {
      "text/plain": [
       "XGBRegressor(base_score=None, booster=None, callbacks=None,\n",
       "             colsample_bylevel=None, colsample_bynode=None,\n",
       "             colsample_bytree=0.7, device=None, early_stopping_rounds=None,\n",
       "             enable_categorical=False, eval_metric=None, feature_types=None,\n",
       "             gamma=None, grow_policy=None, importance_type=None,\n",
       "             interaction_constraints=None, learning_rate=0.1, max_bin=None,\n",
       "             max_cat_threshold=None, max_cat_to_onehot=None,\n",
       "             max_delta_step=None, max_depth=3, max_leaves=None,\n",
       "             min_child_weight=None, missing=nan, monotone_constraints=None,\n",
       "             multi_strategy=None, n_estimators=50, n_jobs=None,\n",
       "             num_parallel_tree=None, random_state=None, ...)"
      ]
     },
     "execution_count": 10,
     "metadata": {},
     "output_type": "execute_result"
    }
   ],
   "source": [
    "# Train the final model with best parameters\n",
    "final_xg_model = xgb.XGBRegressor(**best_params)\n",
    "final_xg_model.fit(X, y)"
   ]
  },
  {
   "cell_type": "code",
   "execution_count": 13,
   "id": "24c245ce",
   "metadata": {},
   "outputs": [],
   "source": [
    "# Make predictions on the training set\n",
    "train_predictions = final_xg_model.predict(X)"
   ]
  },
  {
   "cell_type": "code",
   "execution_count": 14,
   "id": "9c4e7e31",
   "metadata": {},
   "outputs": [
    {
     "name": "stdout",
     "output_type": "stream",
     "text": [
      "Training Metrics:\n",
      "MSE: 215.55839763494814\n",
      "RMSE: 14.681907152510812\n",
      "MAE: 11.727482949281349\n",
      "MAPE: 4.44475637775503\n",
      "R-squared: 0.9136343247295994\n"
     ]
    }
   ],
   "source": [
    "# Calculate MSE\n",
    "mse = mean_squared_error(y, train_predictions)\n",
    "\n",
    "# Calculate RMSE\n",
    "rmse = np.sqrt(mse)\n",
    "\n",
    "# Calculate MAE\n",
    "mae = mean_absolute_error(y, train_predictions)\n",
    "\n",
    "# Calculate R-squared\n",
    "r2 = r2_score(y, train_predictions)\n",
    "\n",
    "# Calculate MAPE - ensure no division by zero\n",
    "y_actual_nonzero = np.where(y == 0, np.finfo(float).eps, y)  # Replace 0 with a small number\n",
    "mape = np.mean(np.abs((y - train_predictions) / y_actual_nonzero)) * 100\n",
    "\n",
    "# Print the error metrics\n",
    "print(f\"Training Metrics:\\nMSE: {mse}\\nRMSE: {rmse}\\nMAE: {mae}\\nMAPE: {mape}\\nR-squared: {r2}\")\n"
   ]
  },
  {
   "cell_type": "code",
   "execution_count": 11,
   "id": "c4cb1c60",
   "metadata": {},
   "outputs": [],
   "source": [
    "# Forecast future values for the next 30 months\n",
    "future_months = 30\n",
    "future_predictions = []\n",
    "last_window = df['Biomass'].values[-look_back:]\n",
    "\n",
    "for _ in range(future_months):\n",
    "    pred = final_xg_model.predict(np.array([last_window]))\n",
    "    future_predictions.append(pred[0])\n",
    "    last_window = np.append(last_window[1:], pred)\n",
    "\n",
    "future_dates = pd.date_range(start=df.index[-1], periods=future_months + 1, freq='M')[1:]\n",
    "future_series = pd.Series(future_predictions, index=future_dates)\n"
   ]
  },
  {
   "cell_type": "code",
   "execution_count": 12,
   "id": "3c22e77c",
   "metadata": {},
   "outputs": [
    {
     "data": {
      "image/png": "[encoded data removed]",
      "text/plain": [
       "<Figure size 864x432 with 1 Axes>"
      ]
     },
     "metadata": {
      "needs_background": "light"
     },
     "output_type": "display_data"
    }
   ],
   "source": [
    "# Plotting the original and forecasted values\n",
    "plt.figure(figsize=(12, 6))\n",
    "plt.plot(df.index, df['Biomass'], label='Actual Biomass', color='blue')\n",
    "plt.plot(future_series.index, future_series, label='Forecasted Biomass', color='green', linestyle='dashed')\n",
    "plt.title('XGBoost - Actual vs Forecasted Biomass')\n",
    "plt.xlabel('Date')\n",
    "plt.ylabel('Biomass')\n",
    "plt.legend()\n",
    "plt.show()\n"
   ]
  },
  {
   "cell_type": "code",
   "execution_count": null,
   "id": "e19f9efc",
   "metadata": {},
   "outputs": [],
   "source": []
  }
 ],
 "metadata": {
  "kernelspec": {
   "display_name": "Python 3",
   "language": "python",
   "name": "python3"
  },
  "language_info": {
   "codemirror_mode": {
    "name": "ipython",
    "version": 3
   },
   "file_extension": ".py",
   "mimetype": "text/x-python",
   "name": "python",
   "nbconvert_exporter": "python",
   "pygments_lexer": "ipython3",
   "version": "3.8.8"
  }
 },
 "nbformat": 4,
 "nbformat_minor": 5
}
