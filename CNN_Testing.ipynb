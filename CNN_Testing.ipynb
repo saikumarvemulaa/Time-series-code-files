{
  "nbformat": 4,
  "nbformat_minor": 0,
  "metadata": {
    "colab": {
      "provenance": []
    },
    "kernelspec": {
      "name": "python3",
      "display_name": "Python 3"
    },
    "language_info": {
      "name": "python"
    }
  },
  "cells": [
    {
      "cell_type": "code",
      "execution_count": 1,
      "metadata": {
        "id": "8v5ug5cZtJqC"
      },
      "outputs": [],
      "source": [
        "import numpy as np\n",
        "import pandas as pd\n",
        "import tensorflow as tf\n",
        "from tensorflow.keras.models import Sequential\n",
        "from tensorflow.keras.layers import Conv1D, MaxPooling1D, Flatten, Dense\n",
        "from sklearn.preprocessing import MinMaxScaler\n",
        "from sklearn.metrics import mean_squared_error, mean_absolute_error, r2_score\n",
        "import matplotlib.pyplot as plt\n"
      ]
    },
    {
      "cell_type": "code",
      "source": [
        "# Load data\n",
        "url = \"https://docs.google.com/spreadsheets/d/e/2PACX-1vRC4x6mecC7EkofiP3uJWZ3Y1jD1B2QMZXjlFtdP9-TOan6Fms2TqyOyssHegjTeG7iM6f-qX89vfvK/pub?gid=0&single=true&output=csv\"\n",
        "df = pd.read_csv(url)\n",
        "df['Date'] = pd.to_datetime(df['Date'], format='%m-%Y')\n",
        "df.set_index('Date', inplace=True)\n",
        "df['Biomass']=df['Biomass'].dropna()"
      ],
      "metadata": {
        "id": "_tvYb1E8tYbD"
      },
      "execution_count": 2,
      "outputs": []
    },
    {
      "cell_type": "code",
      "source": [
        "# Assuming df is your DataFrame with the 'Biomass' column\n",
        "scaler = MinMaxScaler(feature_range=(0, 1))\n",
        "scaled_data = scaler.fit_transform(df['Biomass'].values.reshape(-1, 1))\n",
        "\n",
        "def create_dataset(data, look_back=1):\n",
        "    X, Y = [], []\n",
        "    for i in range(len(data) - look_back - 1):\n",
        "        a = data[i:(i + look_back), 0]\n",
        "        X.append(a)\n",
        "        Y.append(data[i + look_back, 0])\n",
        "    return np.array(X), np.array(Y)\n",
        "\n",
        "look_back = 5  # Number of previous time steps to consider\n",
        "X, y = create_dataset(scaled_data, look_back)\n",
        "X = np.reshape(X, (X.shape[0], X.shape[1], 1))  # Reshape input to be [samples, time steps, features]\n"
      ],
      "metadata": {
        "id": "MXgtU-rHtdIJ"
      },
      "execution_count": 3,
      "outputs": []
    },
    {
      "cell_type": "code",
      "source": [
        "# Create CNN model\n",
        "model = Sequential()\n",
        "model.add(Conv1D(filters=64, kernel_size=2, activation='relu', input_shape=(look_back, 1)))\n",
        "model.add(MaxPooling1D(pool_size=2))\n",
        "model.add(Flatten())\n",
        "model.add(Dense(50, activation='relu'))\n",
        "model.add(Dense(1))\n",
        "\n",
        "model.compile(optimizer='adam', loss='mean_squared_error')\n"
      ],
      "metadata": {
        "id": "_mRKTyI3tfmU"
      },
      "execution_count": 4,
      "outputs": []
    },
    {
      "cell_type": "code",
      "source": [
        "# Train the model\n",
        "model.fit(X, y, epochs=100, batch_size=32)\n"
      ],
      "metadata": {
        "colab": {
          "base_uri": "https://localhost:8080/"
        },
        "id": "ss7OgRRDtlXL",
        "outputId": "e728bda5-b2c1-4438-cdbd-b37e1eab65a2"
      },
      "execution_count": 5,
      "outputs": [
        {
          "output_type": "stream",
          "name": "stdout",
          "text": [
            "Epoch 1/100\n",
            "3/3 [==============================] - 1s 7ms/step - loss: 0.2045\n",
            "Epoch 2/100\n",
            "3/3 [==============================] - 0s 5ms/step - loss: 0.1427\n",
            "Epoch 3/100\n",
            "3/3 [==============================] - 0s 5ms/step - loss: 0.0920\n",
            "Epoch 4/100\n",
            "3/3 [==============================] - 0s 5ms/step - loss: 0.0571\n",
            "Epoch 5/100\n",
            "3/3 [==============================] - 0s 5ms/step - loss: 0.0385\n",
            "Epoch 6/100\n",
            "3/3 [==============================] - 0s 5ms/step - loss: 0.0374\n",
            "Epoch 7/100\n",
            "3/3 [==============================] - 0s 5ms/step - loss: 0.0419\n",
            "Epoch 8/100\n",
            "3/3 [==============================] - 0s 5ms/step - loss: 0.0442\n",
            "Epoch 9/100\n",
            "3/3 [==============================] - 0s 5ms/step - loss: 0.0410\n",
            "Epoch 10/100\n",
            "3/3 [==============================] - 0s 5ms/step - loss: 0.0367\n",
            "Epoch 11/100\n",
            "3/3 [==============================] - 0s 5ms/step - loss: 0.0339\n",
            "Epoch 12/100\n",
            "3/3 [==============================] - 0s 6ms/step - loss: 0.0331\n",
            "Epoch 13/100\n",
            "3/3 [==============================] - 0s 5ms/step - loss: 0.0341\n",
            "Epoch 14/100\n",
            "3/3 [==============================] - 0s 5ms/step - loss: 0.0339\n",
            "Epoch 15/100\n",
            "3/3 [==============================] - 0s 6ms/step - loss: 0.0333\n",
            "Epoch 16/100\n",
            "3/3 [==============================] - 0s 5ms/step - loss: 0.0326\n",
            "Epoch 17/100\n",
            "3/3 [==============================] - 0s 6ms/step - loss: 0.0314\n",
            "Epoch 18/100\n",
            "3/3 [==============================] - 0s 5ms/step - loss: 0.0306\n",
            "Epoch 19/100\n",
            "3/3 [==============================] - 0s 7ms/step - loss: 0.0302\n",
            "Epoch 20/100\n",
            "3/3 [==============================] - 0s 6ms/step - loss: 0.0296\n",
            "Epoch 21/100\n",
            "3/3 [==============================] - 0s 5ms/step - loss: 0.0291\n",
            "Epoch 22/100\n",
            "3/3 [==============================] - 0s 5ms/step - loss: 0.0285\n",
            "Epoch 23/100\n",
            "3/3 [==============================] - 0s 6ms/step - loss: 0.0281\n",
            "Epoch 24/100\n",
            "3/3 [==============================] - 0s 5ms/step - loss: 0.0278\n",
            "Epoch 25/100\n",
            "3/3 [==============================] - 0s 5ms/step - loss: 0.0273\n",
            "Epoch 26/100\n",
            "3/3 [==============================] - 0s 5ms/step - loss: 0.0267\n",
            "Epoch 27/100\n",
            "3/3 [==============================] - 0s 5ms/step - loss: 0.0260\n",
            "Epoch 28/100\n",
            "3/3 [==============================] - 0s 5ms/step - loss: 0.0261\n",
            "Epoch 29/100\n",
            "3/3 [==============================] - 0s 5ms/step - loss: 0.0255\n",
            "Epoch 30/100\n",
            "3/3 [==============================] - 0s 5ms/step - loss: 0.0248\n",
            "Epoch 31/100\n",
            "3/3 [==============================] - 0s 8ms/step - loss: 0.0244\n",
            "Epoch 32/100\n",
            "3/3 [==============================] - 0s 7ms/step - loss: 0.0244\n",
            "Epoch 33/100\n",
            "3/3 [==============================] - 0s 8ms/step - loss: 0.0235\n",
            "Epoch 34/100\n",
            "3/3 [==============================] - 0s 5ms/step - loss: 0.0234\n",
            "Epoch 35/100\n",
            "3/3 [==============================] - 0s 5ms/step - loss: 0.0232\n",
            "Epoch 36/100\n",
            "3/3 [==============================] - 0s 5ms/step - loss: 0.0226\n",
            "Epoch 37/100\n",
            "3/3 [==============================] - 0s 6ms/step - loss: 0.0222\n",
            "Epoch 38/100\n",
            "3/3 [==============================] - 0s 5ms/step - loss: 0.0219\n",
            "Epoch 39/100\n",
            "3/3 [==============================] - 0s 5ms/step - loss: 0.0218\n",
            "Epoch 40/100\n",
            "3/3 [==============================] - 0s 9ms/step - loss: 0.0214\n",
            "Epoch 41/100\n",
            "3/3 [==============================] - 0s 6ms/step - loss: 0.0212\n",
            "Epoch 42/100\n",
            "3/3 [==============================] - 0s 5ms/step - loss: 0.0210\n",
            "Epoch 43/100\n",
            "3/3 [==============================] - 0s 5ms/step - loss: 0.0208\n",
            "Epoch 44/100\n",
            "3/3 [==============================] - 0s 5ms/step - loss: 0.0207\n",
            "Epoch 45/100\n",
            "3/3 [==============================] - 0s 6ms/step - loss: 0.0204\n",
            "Epoch 46/100\n",
            "3/3 [==============================] - 0s 5ms/step - loss: 0.0202\n",
            "Epoch 47/100\n",
            "3/3 [==============================] - 0s 5ms/step - loss: 0.0202\n",
            "Epoch 48/100\n",
            "3/3 [==============================] - 0s 6ms/step - loss: 0.0200\n",
            "Epoch 49/100\n",
            "3/3 [==============================] - 0s 5ms/step - loss: 0.0200\n",
            "Epoch 50/100\n",
            "3/3 [==============================] - 0s 5ms/step - loss: 0.0198\n",
            "Epoch 51/100\n",
            "3/3 [==============================] - 0s 5ms/step - loss: 0.0197\n",
            "Epoch 52/100\n",
            "3/3 [==============================] - 0s 5ms/step - loss: 0.0197\n",
            "Epoch 53/100\n",
            "3/3 [==============================] - 0s 5ms/step - loss: 0.0196\n",
            "Epoch 54/100\n",
            "3/3 [==============================] - 0s 5ms/step - loss: 0.0194\n",
            "Epoch 55/100\n",
            "3/3 [==============================] - 0s 5ms/step - loss: 0.0192\n",
            "Epoch 56/100\n",
            "3/3 [==============================] - 0s 5ms/step - loss: 0.0191\n",
            "Epoch 57/100\n",
            "3/3 [==============================] - 0s 6ms/step - loss: 0.0190\n",
            "Epoch 58/100\n",
            "3/3 [==============================] - 0s 5ms/step - loss: 0.0190\n",
            "Epoch 59/100\n",
            "3/3 [==============================] - 0s 5ms/step - loss: 0.0187\n",
            "Epoch 60/100\n",
            "3/3 [==============================] - 0s 5ms/step - loss: 0.0191\n",
            "Epoch 61/100\n",
            "3/3 [==============================] - 0s 5ms/step - loss: 0.0188\n",
            "Epoch 62/100\n",
            "3/3 [==============================] - 0s 5ms/step - loss: 0.0187\n",
            "Epoch 63/100\n",
            "3/3 [==============================] - 0s 5ms/step - loss: 0.0189\n",
            "Epoch 64/100\n",
            "3/3 [==============================] - 0s 5ms/step - loss: 0.0185\n",
            "Epoch 65/100\n",
            "3/3 [==============================] - 0s 5ms/step - loss: 0.0184\n",
            "Epoch 66/100\n",
            "3/3 [==============================] - 0s 5ms/step - loss: 0.0183\n",
            "Epoch 67/100\n",
            "3/3 [==============================] - 0s 5ms/step - loss: 0.0182\n",
            "Epoch 68/100\n",
            "3/3 [==============================] - 0s 6ms/step - loss: 0.0183\n",
            "Epoch 69/100\n",
            "3/3 [==============================] - 0s 6ms/step - loss: 0.0181\n",
            "Epoch 70/100\n",
            "3/3 [==============================] - 0s 5ms/step - loss: 0.0184\n",
            "Epoch 71/100\n",
            "3/3 [==============================] - 0s 5ms/step - loss: 0.0181\n",
            "Epoch 72/100\n",
            "3/3 [==============================] - 0s 7ms/step - loss: 0.0181\n",
            "Epoch 73/100\n",
            "3/3 [==============================] - 0s 5ms/step - loss: 0.0181\n",
            "Epoch 74/100\n",
            "3/3 [==============================] - 0s 5ms/step - loss: 0.0179\n",
            "Epoch 75/100\n",
            "3/3 [==============================] - 0s 5ms/step - loss: 0.0179\n",
            "Epoch 76/100\n",
            "3/3 [==============================] - 0s 5ms/step - loss: 0.0177\n",
            "Epoch 77/100\n",
            "3/3 [==============================] - 0s 7ms/step - loss: 0.0180\n",
            "Epoch 78/100\n",
            "3/3 [==============================] - 0s 5ms/step - loss: 0.0176\n",
            "Epoch 79/100\n",
            "3/3 [==============================] - 0s 6ms/step - loss: 0.0180\n",
            "Epoch 80/100\n",
            "3/3 [==============================] - 0s 6ms/step - loss: 0.0180\n",
            "Epoch 81/100\n",
            "3/3 [==============================] - 0s 8ms/step - loss: 0.0177\n",
            "Epoch 82/100\n",
            "3/3 [==============================] - 0s 6ms/step - loss: 0.0177\n",
            "Epoch 83/100\n",
            "3/3 [==============================] - 0s 4ms/step - loss: 0.0174\n",
            "Epoch 84/100\n",
            "3/3 [==============================] - 0s 5ms/step - loss: 0.0176\n",
            "Epoch 85/100\n",
            "3/3 [==============================] - 0s 5ms/step - loss: 0.0173\n",
            "Epoch 86/100\n",
            "3/3 [==============================] - 0s 5ms/step - loss: 0.0174\n",
            "Epoch 87/100\n",
            "3/3 [==============================] - 0s 5ms/step - loss: 0.0172\n",
            "Epoch 88/100\n",
            "3/3 [==============================] - 0s 5ms/step - loss: 0.0172\n",
            "Epoch 89/100\n",
            "3/3 [==============================] - 0s 6ms/step - loss: 0.0174\n",
            "Epoch 90/100\n",
            "3/3 [==============================] - 0s 6ms/step - loss: 0.0177\n",
            "Epoch 91/100\n",
            "3/3 [==============================] - 0s 5ms/step - loss: 0.0171\n",
            "Epoch 92/100\n",
            "3/3 [==============================] - 0s 6ms/step - loss: 0.0172\n",
            "Epoch 93/100\n",
            "3/3 [==============================] - 0s 5ms/step - loss: 0.0173\n",
            "Epoch 94/100\n",
            "3/3 [==============================] - 0s 6ms/step - loss: 0.0170\n",
            "Epoch 95/100\n",
            "3/3 [==============================] - 0s 6ms/step - loss: 0.0173\n",
            "Epoch 96/100\n",
            "3/3 [==============================] - 0s 5ms/step - loss: 0.0173\n",
            "Epoch 97/100\n",
            "3/3 [==============================] - 0s 7ms/step - loss: 0.0173\n",
            "Epoch 98/100\n",
            "3/3 [==============================] - 0s 6ms/step - loss: 0.0180\n",
            "Epoch 99/100\n",
            "3/3 [==============================] - 0s 5ms/step - loss: 0.0177\n",
            "Epoch 100/100\n",
            "3/3 [==============================] - 0s 5ms/step - loss: 0.0175\n"
          ]
        },
        {
          "output_type": "execute_result",
          "data": {
            "text/plain": [
              "<keras.src.callbacks.History at 0x79dc2621b6d0>"
            ]
          },
          "metadata": {},
          "execution_count": 5
        }
      ]
    },
    {
      "cell_type": "code",
      "source": [
        "# Making predictions\n",
        "predictions = model.predict(X)\n",
        "\n",
        "# Inverse transform predictions and actual values\n",
        "predictions = scaler.inverse_transform(predictions)\n",
        "actual = scaler.inverse_transform(y.reshape(-1, 1))\n",
        "\n",
        "# Calculate error metrics\n",
        "mse = mean_squared_error(actual, predictions)\n",
        "rmse = np.sqrt(mse)\n",
        "mae = mean_absolute_error(actual, predictions)\n",
        "r2 = r2_score(actual, predictions)\n",
        "\n",
        "print(f\"MSE: {mse}, RMSE: {rmse}, MAE: {mae}, R-squared: {r2}\")\n"
      ],
      "metadata": {
        "colab": {
          "base_uri": "https://localhost:8080/"
        },
        "id": "SIySp4KBtoPO",
        "outputId": "d81f2a9d-5569-4b54-e8d7-9f7eb98148f8"
      },
      "execution_count": 6,
      "outputs": [
        {
          "output_type": "stream",
          "name": "stdout",
          "text": [
            "3/3 [==============================] - 0s 4ms/step\n",
            "MSE: 780.0423197748488, RMSE: 27.929237722767315, MAE: 23.309868492713342, R-squared: 0.6874680716409158\n"
          ]
        }
      ]
    },
    {
      "cell_type": "code",
      "source": [
        "# Forecast future values\n",
        "future_months = 30\n",
        "future_predictions = []\n",
        "current_batch = scaled_data[-look_back:]\n",
        "\n",
        "for i in range(future_months):\n",
        "    current_pred = model.predict(current_batch.reshape(1, look_back, 1))\n",
        "    future_predictions.append(current_pred[0, 0])\n",
        "    current_batch = np.append(current_batch[1:], current_pred)\n",
        "\n",
        "# Inverse transform the predictions to original scale\n",
        "future_predictions = scaler.inverse_transform(np.array(future_predictions).reshape(-1, 1))\n",
        "future_dates = pd.date_range(start=df.index[-1], periods=future_months + 1, freq='M')[1:]\n",
        "future_series = pd.Series(future_predictions.flatten(), index=future_dates)\n"
      ],
      "metadata": {
        "colab": {
          "base_uri": "https://localhost:8080/"
        },
        "id": "JQsfxb0Ut0KB",
        "outputId": "4faf73be-431a-4bad-c546-039a610c1dfd"
      },
      "execution_count": 7,
      "outputs": [
        {
          "output_type": "stream",
          "name": "stdout",
          "text": [
            "1/1 [==============================] - 0s 22ms/step\n",
            "1/1 [==============================] - 0s 22ms/step\n",
            "1/1 [==============================] - 0s 21ms/step\n",
            "1/1 [==============================] - 0s 29ms/step\n",
            "1/1 [==============================] - 0s 21ms/step\n",
            "1/1 [==============================] - 0s 25ms/step\n",
            "1/1 [==============================] - 0s 20ms/step\n",
            "1/1 [==============================] - 0s 22ms/step\n",
            "1/1 [==============================] - 0s 22ms/step\n",
            "1/1 [==============================] - 0s 22ms/step\n",
            "1/1 [==============================] - 0s 23ms/step\n",
            "1/1 [==============================] - 0s 25ms/step\n",
            "1/1 [==============================] - 0s 24ms/step\n",
            "1/1 [==============================] - 0s 25ms/step\n",
            "1/1 [==============================] - 0s 22ms/step\n",
            "1/1 [==============================] - 0s 23ms/step\n",
            "1/1 [==============================] - 0s 21ms/step\n",
            "1/1 [==============================] - 0s 20ms/step\n",
            "1/1 [==============================] - 0s 21ms/step\n",
            "1/1 [==============================] - 0s 22ms/step\n",
            "1/1 [==============================] - 0s 20ms/step\n",
            "1/1 [==============================] - 0s 20ms/step\n",
            "1/1 [==============================] - 0s 23ms/step\n",
            "1/1 [==============================] - 0s 22ms/step\n",
            "1/1 [==============================] - 0s 24ms/step\n",
            "1/1 [==============================] - 0s 21ms/step\n",
            "1/1 [==============================] - 0s 20ms/step\n",
            "1/1 [==============================] - 0s 21ms/step\n",
            "1/1 [==============================] - 0s 20ms/step\n",
            "1/1 [==============================] - 0s 26ms/step\n"
          ]
        }
      ]
    },
    {
      "cell_type": "code",
      "source": [
        "# Plotting the actual and forecasted values\n",
        "plt.figure(figsize=(12, 6))\n",
        "plt.plot(df.index, df['Biomass'], label='Actual Biomass', color='blue')\n",
        "plt.plot(future_series.index, future_series, label='Forecasted Biomass', color='red', linestyle='dashed')\n",
        "plt.title('CNN - Actual vs Forecasted Biomass')\n",
        "plt.xlabel('Date')\n",
        "plt.ylabel('Biomass')\n",
        "plt.legend()\n",
        "plt.show()\n"
      ],
      "metadata": {
        "colab": {
          "base_uri": "https://localhost:8080/",
          "height": 564
        },
        "id": "XBo-muadt4F0",
        "outputId": "9dc30b87-ffb9-4826-95b3-4472943d45b6"
      },
      "execution_count": 8,
      "outputs": [
        {
          "output_type": "display_data",
          "data": {
            "text/plain": [
              "<Figure size 1200x600 with 1 Axes>"
            ],
            "image/png": "[encoded data removed]"
          },
          "metadata": {}
        }
      ]
    }
  ]
}